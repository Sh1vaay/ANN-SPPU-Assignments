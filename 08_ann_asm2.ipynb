{
 "cells": [
  {
   "attachments": {},
   "cell_type": "markdown",
   "id": "8c0a527c",
   "metadata": {},
   "source": [
    "# Artificial Neural Network Assingnment-2\n",
    "## _Abhishek_Sutar\n",
    "## Generate ANDNOT and Other functions using McCulloch-Pitts neural net by a python program."
   ]
  },
  {
   "cell_type": "code",
   "execution_count": 3,
   "id": "0dc9caf3",
   "metadata": {},
   "outputs": [
    {
     "name": "stdout",
     "output_type": "stream",
     "text": [
      "[[0 0]\n",
      " [1 0]\n",
      " [0 1]\n",
      " [1 1]]\n"
     ]
    }
   ],
   "source": [
    "import numpy as np\n",
    "X = np.matrix([[0,0],[1,0],[0,1],[1,1]])\n",
    "W = [1,-1]\n",
    "W2=[1,1]\n",
    "T=1\n",
    "print(X)\n",
    "\n",
    "\n",
    "\n",
    "    \n",
    "\n"
   ]
  },
  {
   "cell_type": "markdown",
   "id": "6bc90cc9",
   "metadata": {},
   "source": [
    "# 1.ANDNOT"
   ]
  },
  {
   "cell_type": "code",
   "execution_count": 4,
   "id": "f59b5b22",
   "metadata": {},
   "outputs": [
    {
     "name": "stdout",
     "output_type": "stream",
     "text": [
      "[[0]]\n",
      "[[1]]\n",
      "[[-1]]\n",
      "[[0]]\n"
     ]
    },
    {
     "data": {
      "text/plain": [
       "[0, 1, 0, 0]"
      ]
     },
     "execution_count": 4,
     "metadata": {},
     "output_type": "execute_result"
    }
   ],
   "source": [
    "AND_NOT=[]\n",
    "def Not_And_dot():\n",
    "    for i in range(len(X)):\n",
    "        temp = X[i]@W\n",
    "        print(temp)\n",
    "        if (temp)>=T:\n",
    "            AND_NOT.append(1)\n",
    "        else:\n",
    "            AND_NOT.append(0)\n",
    "    return(AND_NOT)\n",
    "Not_And_dot()"
   ]
  },
  {
   "cell_type": "code",
   "execution_count": 6,
   "id": "57d39087",
   "metadata": {},
   "outputs": [
    {
     "data": {
      "text/plain": [
       "\"'x2 = np.array([1,0,1,0])\\nx1 = np.array([1,1,0,0])\\nactivation = np.array([0,0,0,0])\\n#W = np.array([-1,1])\\n#np.random.seed(seed=0)\\n#X = np.random.choice([0,1], 3)\\n#W = np.random.choice([-1,1], 3)\\n#T = 1\\n#activation = linear_threshold_gate(dot, T)\""
      ]
     },
     "execution_count": 6,
     "metadata": {},
     "output_type": "execute_result"
    }
   ],
   "source": [
    "''''x2 = np.array([1,0,1,0])\n",
    "x1 = np.array([1,1,0,0])\n",
    "activation = np.array([0,0,0,0])\n",
    "#W = np.array([-1,1])\n",
    "#np.random.seed(seed=0)\n",
    "#X = np.random.choice([0,1], 3)\n",
    "#W = np.random.choice([-1,1], 3)\n",
    "#T = 1\n",
    "#activation = linear_threshold_gate(dot, T)'''\n"
   ]
  },
  {
   "cell_type": "markdown",
   "id": "4b5fc989",
   "metadata": {},
   "source": [
    "# 2.AND"
   ]
  },
  {
   "cell_type": "code",
   "execution_count": 5,
   "id": "baae4a5c",
   "metadata": {},
   "outputs": [
    {
     "name": "stdout",
     "output_type": "stream",
     "text": [
      "[[0]]\n",
      "[[1]]\n",
      "[[1]]\n",
      "[[2]]\n"
     ]
    },
    {
     "data": {
      "text/plain": [
       "[0, 0, 0, 1]"
      ]
     },
     "execution_count": 5,
     "metadata": {},
     "output_type": "execute_result"
    }
   ],
   "source": [
    "def DOT_AND():\n",
    "    AND=[]\n",
    "    for i in range(len(X)):\n",
    "        temp = X[i]@W2\n",
    "        print(temp)\n",
    "        if(temp>T):\n",
    "            AND.append(1)\n",
    "        else:\n",
    "            AND.append(0)\n",
    "    return AND\n",
    "DOT_AND()\n"
   ]
  },
  {
   "cell_type": "markdown",
   "id": "7f6054d9",
   "metadata": {},
   "source": [
    "# 3.NAND"
   ]
  },
  {
   "cell_type": "code",
   "execution_count": 7,
   "id": "6f1bfb84",
   "metadata": {},
   "outputs": [
    {
     "name": "stdout",
     "output_type": "stream",
     "text": [
      "[[0]]\n",
      "[[1]]\n",
      "[[1]]\n",
      "[[2]]\n"
     ]
    },
    {
     "data": {
      "text/plain": [
       "[1, 1, 1, 0]"
      ]
     },
     "execution_count": 7,
     "metadata": {},
     "output_type": "execute_result"
    }
   ],
   "source": [
    "\n",
    "T2=2\n",
    "NAND=[]\n",
    "def OR_NAND():\n",
    "    for i in range(len(X)):\n",
    "        temp = X[i]@W2\n",
    "        print(temp)\n",
    "        if(temp<T2):\n",
    "            NAND.append(1)\n",
    "        else:\n",
    "            NAND.append(0)\n",
    "    return NAND\n",
    "OR_NAND()"
   ]
  },
  {
   "cell_type": "markdown",
   "id": "d5667b93",
   "metadata": {},
   "source": [
    "# 4.OR"
   ]
  },
  {
   "cell_type": "code",
   "execution_count": 8,
   "id": "0aa55b62",
   "metadata": {},
   "outputs": [
    {
     "name": "stdout",
     "output_type": "stream",
     "text": [
      "[[0]]\n",
      "[[1]]\n",
      "[[1]]\n",
      "[[2]]\n"
     ]
    },
    {
     "data": {
      "text/plain": [
       "[0, 1, 1, 1]"
      ]
     },
     "execution_count": 8,
     "metadata": {},
     "output_type": "execute_result"
    }
   ],
   "source": [
    "\n",
    "\n",
    "    \n",
    "    \n",
    "\n",
    "\n",
    "def DOT_OR():\n",
    "    \n",
    "       \n",
    "    OR=[]\n",
    "    for i in range(len(X)):\n",
    "        \n",
    "        temp = X[i]@W2\n",
    "        print(temp)\n",
    "        if(temp>=T):\n",
    "            OR.append(1)\n",
    "        else:\n",
    "            OR.append(0)\n",
    "    return OR\n",
    "DOT_OR()\n"
   ]
  },
  {
   "cell_type": "markdown",
   "id": "6bac3939",
   "metadata": {},
   "source": [
    "# 5.NOR"
   ]
  },
  {
   "cell_type": "code",
   "execution_count": 11,
   "id": "1f4e9991",
   "metadata": {},
   "outputs": [
    {
     "name": "stdout",
     "output_type": "stream",
     "text": [
      "[[0]]\n",
      "[[1]]\n",
      "[[1]]\n",
      "[[2]]\n"
     ]
    },
    {
     "data": {
      "text/plain": [
       "[1, 0, 0, 0]"
      ]
     },
     "execution_count": 11,
     "metadata": {},
     "output_type": "execute_result"
    }
   ],
   "source": [
    "NOR=[]\n",
    "t=0\n",
    "def DOT_NOR():\n",
    "    for i in range(len(X)):\n",
    "        temp = X[i]@W2\n",
    "        print(temp)\n",
    "        if(temp<=t):\n",
    "            NOR.append(1)\n",
    "        else:\n",
    "            NOR.append(0)\n",
    "    return NOR\n",
    "DOT_NOR()"
   ]
  },
  {
   "cell_type": "markdown",
   "id": "b85b34e1",
   "metadata": {},
   "source": [
    "# 6.XOR"
   ]
  },
  {
   "cell_type": "code",
   "execution_count": 9,
   "id": "d8afeaed",
   "metadata": {},
   "outputs": [
    {
     "name": "stdout",
     "output_type": "stream",
     "text": [
      "[[0]]\n",
      "[[1]]\n",
      "[[1]]\n",
      "[[2]]\n"
     ]
    },
    {
     "data": {
      "text/plain": [
       "[0, 1, 1, 0]"
      ]
     },
     "execution_count": 9,
     "metadata": {},
     "output_type": "execute_result"
    }
   ],
   "source": [
    "def dot_XOR():\n",
    "    XOR=[]\n",
    "    for i in range(len(X)):\n",
    "        temp = X[i]@W2\n",
    "        print(temp)\n",
    "        if(temp==T):\n",
    "            XOR.append(1)\n",
    "        else:\n",
    "            XOR.append(0)\n",
    "    return XOR\n",
    "dot_XOR()"
   ]
  },
  {
   "cell_type": "code",
   "execution_count": null,
   "id": "e5fbc35e",
   "metadata": {},
   "outputs": [],
   "source": []
  }
 ],
 "metadata": {
  "kernelspec": {
   "display_name": "Python 3 (ipykernel)",
   "language": "python",
   "name": "python3"
  },
  "language_info": {
   "codemirror_mode": {
    "name": "ipython",
    "version": 3
   },
   "file_extension": ".py",
   "mimetype": "text/x-python",
   "name": "python",
   "nbconvert_exporter": "python",
   "pygments_lexer": "ipython3",
   "version": "3.9.6"
  }
 },
 "nbformat": 4,
 "nbformat_minor": 5
}
