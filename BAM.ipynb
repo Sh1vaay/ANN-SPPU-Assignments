{
 "cells": [
  {
   "cell_type": "code",
   "execution_count": 1,
   "id": "f156337f",
   "metadata": {},
   "outputs": [
    {
     "name": "stdout",
     "output_type": "stream",
     "text": [
      "\n",
      " Weight matrix:\n",
      "[[-1  1  1]\n",
      " [-1  1 -1]\n",
      " [ 1 -1  1]\n",
      " [ 3  3  3]]\n",
      "\\output of the input pattern 1\n",
      "[[1]\n",
      " [1]\n",
      " [1]]\n",
      "\\output of the input pattern 2\n",
      "[[1]\n",
      " [0]\n",
      " [1]]\n",
      "\\output of the input pattern 3\n",
      "[[0]\n",
      " [1]\n",
      " [1]]\n",
      "\\output of the input pattern 4\n",
      "[[1]\n",
      " [1]\n",
      " [0]]\n"
     ]
    }
   ],
   "source": [
    "import numpy as np\n",
    "#input pattern\n",
    "x1=np.array([1,-1,1,1]).reshape(4,1)\n",
    "x2=np.array([-1,-1,1,1]).reshape(4,1)\n",
    "x3=np.array([1,1,-1,1]).reshape(4,1)\n",
    "x4=np.array([-1,1,-1,1]).reshape(4,1)\n",
    "\n",
    "#Target Pattern\n",
    "\n",
    "y1=np.array([1,1,1]).reshape(3,1)\n",
    "y2=np.array([1,0,1]).reshape(3,1)\n",
    "y3=np.array([0,1,1]).reshape(3,1)\n",
    "y4=np.array([1,1,0]).reshape(3,1)\n",
    "\n",
    "#Calculate weight matrix\n",
    "inputSet=np.concatenate((x1,x2,x3,x4), axis=1)\n",
    "targetSet=np.concatenate((y1.T,y2.T,y3.T,y4.T),axis=0)\n",
    "print(\"\\n Weight matrix:\")\n",
    "weight=np.dot(inputSet,targetSet)\n",
    "print(weight)\n",
    "\n",
    "\n",
    "#Testing phase for the input pattern\n",
    "\n",
    "def testInputs(x,weight):\n",
    "    y=np.dot(weight.T,x)\n",
    "    y[y>1]=1\n",
    "    y[y<1]=0\n",
    "    return np.array(y)\n",
    "\n",
    "print(\"\\output of the input pattern 1\")\n",
    "print(testInputs(x1,weight))\n",
    "print(\"\\output of the input pattern 2\")\n",
    "print(testInputs(x2,weight))\n",
    "print(\"\\output of the input pattern 3\")\n",
    "print(testInputs(x3,weight))\n",
    "print(\"\\output of the input pattern 4\")\n",
    "print(testInputs(x4,weight))\n",
    "\n",
    "#Testing phase for the target patterns\n",
    "\n",
    "# def testTarget(y,weight):\n",
    "#     x=np.dot(weight,y)\n",
    "#     x[x>1]=1\n",
    "#     x[x<1]=0\n",
    "#     return np.array(x)\n",
    "\n",
    "# print(\"\\output of the input pattern 1\")\n",
    "# print(testTarget(y1,weight))\n",
    "# print(\"\\output of the input pattern 2\")\n",
    "# print(testTarget(y2,weight))\n",
    "# print(\"\\output of the input pattern 3\")\n",
    "# print(testTarget(y3,weight))\n",
    "# print(\"\\output of the input pattern 4\")\n",
    "# print(testTarget(y4,weight))\n"
   ]
  },
  {
   "cell_type": "code",
   "execution_count": 18,
   "id": "c5f57408",
   "metadata": {},
   "outputs": [],
   "source": [
    "a = [[1,2],[3,4]]\n",
    "b = [[1,1],[1,1],[1,1]]"
   ]
  },
  {
   "cell_type": "code",
   "execution_count": 19,
   "id": "80cb142a",
   "metadata": {},
   "outputs": [
    {
     "data": {
      "text/plain": [
       "array([[1, 1, 1],\n",
       "       [1, 1, 1]])"
      ]
     },
     "execution_count": 19,
     "metadata": {},
     "output_type": "execute_result"
    }
   ],
   "source": [
    "a = np.array(a)\n",
    "b = np.array(b)\n",
    "b.T\n"
   ]
  },
  {
   "cell_type": "code",
   "execution_count": 21,
   "id": "fccea07b",
   "metadata": {},
   "outputs": [
    {
     "data": {
      "text/plain": [
       "array([[4, 6],\n",
       "       [4, 6],\n",
       "       [4, 6]])"
      ]
     },
     "execution_count": 21,
     "metadata": {},
     "output_type": "execute_result"
    }
   ],
   "source": [
    "np.dot(b,a)"
   ]
  },
  {
   "cell_type": "code",
   "execution_count": null,
   "id": "8013d253",
   "metadata": {},
   "outputs": [],
   "source": []
  }
 ],
 "metadata": {
  "kernelspec": {
   "display_name": "Python 3 (ipykernel)",
   "language": "python",
   "name": "python3"
  },
  "language_info": {
   "codemirror_mode": {
    "name": "ipython",
    "version": 3
   },
   "file_extension": ".py",
   "mimetype": "text/x-python",
   "name": "python",
   "nbconvert_exporter": "python",
   "pygments_lexer": "ipython3",
   "version": "3.9.13"
  }
 },
 "nbformat": 4,
 "nbformat_minor": 5
}
