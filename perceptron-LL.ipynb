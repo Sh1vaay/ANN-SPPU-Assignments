{
 "cells": [
  {
   "attachments": {},
   "cell_type": "markdown",
   "id": "fa605d46",
   "metadata": {},
   "source": [
    "# Artificial Neural Network SL-2 ASSIGNMENT-4\n",
    "## _Abhishek_Sutar\n",
    "### 4. With a suitable example demonstrate the perceptron learning law with its decision regions using python. Give the output in graphical form."
   ]
  },
  {
   "cell_type": "code",
   "execution_count": null,
   "id": "ad9a9868",
   "metadata": {},
   "outputs": [],
   "source": [
    "import numpy as np"
   ]
  },
  {
   "cell_type": "code",
   "execution_count": null,
   "id": "28d05d36",
   "metadata": {},
   "outputs": [],
   "source": [
    "def step_function(x):             # Activation Function\n",
    "    return [1 if x > 0 else 0]\n",
    "\n",
    "def perceptron(inputs, weights, bias):\n",
    "    weighted_sum = np.dot(inputs, weights) + bias       # weighted sum of inputs\n",
    "    return step_function(weighted_sum)                  # Applying Activation function\n",
    "  \n",
    "\n",
    "\n",
    "def train(inputs, labels, weights, bias, lr=0.1, epochs=10):           # training function\n",
    "    for epoch in range(epochs):\n",
    "        for x_i, y_i in zip(inputs, labels):\n",
    "            y_pred = perceptron(x_i, weights, bias)              # Computing predicted output !!Function call \n",
    "            error = y_i - y_pred                                # error by diff betn Actucal and Predicted\n",
    "           \n",
    "            weights += lr * error * x_i   # Update weights and bias\n",
    "            bias += lr * error\n",
    "    return weights, bias\n",
    "\n"
   ]
  },
  {
   "cell_type": "code",
   "execution_count": null,
   "id": "804d57b8",
   "metadata": {
    "scrolled": true
   },
   "outputs": [],
   "source": [
    "inputs = np.array([[0, 0], [0, 1], [1, 0], [1, 1]]) # input vector \n",
    "labels = np.array([0, 1, 1, 1])           #output vector\n",
    "\n",
    "weights = np.random.randn(2) # Random initialization of weights and bias\n",
    "# print(weights)\n",
    "bias = np.random.randn()\n",
    "\n",
    "weights, bias = train(inputs, labels, weights, bias) # Training the perceptron\n",
    "\n",
    "for x_i in inputs:           # Testing the perceptron\n",
    "    print(perceptron(x_i, weights, bias))"
   ]
  },
  {
   "cell_type": "code",
   "execution_count": null,
   "id": "801b1374",
   "metadata": {},
   "outputs": [],
   "source": [
    "\n",
    "print(inputs.shape)\n",
    "\n",
    "print(labels.shape)"
   ]
  },
  {
   "cell_type": "code",
   "execution_count": null,
   "id": "301b1922",
   "metadata": {},
   "outputs": [],
   "source": [
    "\n",
    "# Plot the decision boundary\n",
    "x_min, x_max = inputs[:, 1].min() - 1, inputs[:, 1].max() + 1\n",
    "y_min, y_max = inputs[:,].min() - 1, inputs[:, ].max() + 1\n",
    "xx, yy = np.meshgrid(np.arange(x_min, x_max, .1), np.arange(y_min, y_max, .1))\n",
    "Z = np.dot(np.c_[np.ones(xx.ravel().shape), xx.ravel(), yy.ravel()], w)\n",
    "Z[Z >= 0] = 1\n",
    "Z[Z < 0] = 0\n",
    "Z = Z.reshape(xx.shape)\n",
    "plt.contourf(xx, yy, Z)\n",
    "plt.scatter(X[:, 1], X[:, 2], c=y)\n",
    "plt.show()"
   ]
  },
  {
   "cell_type": "markdown",
   "id": "3552737b",
   "metadata": {},
   "source": [
    "\n",
    "## For Three Feature input set"
   ]
  },
  {
   "cell_type": "code",
   "execution_count": null,
   "id": "729a70e5",
   "metadata": {},
   "outputs": [],
   "source": [
    "io=np.array([[0,1,0],[0,0,1],[1,0,0],[1,1,0],[1,1,1],[0,1,1],[0,1,0]])  # input vector \n",
    "op =  np.array([1,0,0,1,1,0,1])           #output vector\n",
    "\n",
    "weights = np.random.randn(3) # Random initialization of weights and bias\n",
    "bias = np.random.randn()\n",
    "\n",
    "weights, bias = train(io, op, weights, bias) # Training the perceptron\n",
    "\n",
    "for x_i in io:           # Testing the perceptron\n",
    "    print(perceptron(x_i, weights, bias))"
   ]
  },
  {
   "cell_type": "code",
   "execution_count": null,
   "id": "7be38054",
   "metadata": {},
   "outputs": [],
   "source": [
    "\n",
    "print(io.shape)\n",
    "\n",
    "print(op.shape)"
   ]
  },
  {
   "cell_type": "code",
   "execution_count": null,
   "id": "0a6efbb8",
   "metadata": {},
   "outputs": [],
   "source": [
    "## For Two Feature Random input Datasetset"
   ]
  },
  {
   "cell_type": "code",
   "execution_count": null,
   "id": "d55eb897",
   "metadata": {},
   "outputs": [],
   "source": [
    "import pandas as pd\n",
    "\n",
    "# random dataset generation\n",
    "io1 = np.vstack([(np.random.rand(10, 2)*5),(np.random.rand(10, 2)*10)]) # input vector \n",
    "op1 = np.hstack([[0]*10 , [1]*10]) # output vector\n",
    "df = pd.DataFrame(io1, columns=[\"X1\", \"X2\"])\n",
    "df[\"Y\"] = op1\n",
    "print(f\"Input: {io1}, Actual_Output: {op1}\")\n",
    "# print(\"input vectors\")\n",
    "\n",
    "weights = np.random.randn(2) # Random initialization of weights and bias\n",
    "bias = np.random.randn()\n",
    "\n",
    "weights, bias = train(io1, op1, weights, bias, lr=0.5, epochs=50000) # Training the perceptron\n",
    "\n",
    "for x_i in io1: # Testing the perceptron\n",
    "    print(f\"Input: {x_i}\", perceptron(x_i, weights, bias))\n",
    "#     print(f\"Input: {x_i}, Output: {y_pred}\")\n"
   ]
  },
  {
   "cell_type": "code",
   "execution_count": null,
   "id": "a5a93001",
   "metadata": {},
   "outputs": [],
   "source": [
    "# # Plot the decision boundary\n",
    "# x_min, x_max = io1[:, 1].min() - 1, io1[:, 1].max() + 1\n",
    "# y_min, y_max = io1[:,].min() - 1, io1[:, ].max() + 1\n",
    "# xx, yy = np.meshgrid(np.arange(x_min, x_max, .1), np.arange(y_min, y_max, .1))\n",
    "# Z = np.dot(np.c_[np.ones(xx.ravel().shape), xx.ravel(), yy.ravel()], w)\n",
    "# Z[Z >= 0] = 1\n",
    "# Z[Z < 0] = 0\n",
    "# Z = Z.reshape(xx.shape)\n",
    "# plt.contourf(xx, yy, Z)\n",
    "# plt.scatter(X[:, 1], X[:, 2], c=y)\n",
    "# plt.show()"
   ]
  },
  {
   "cell_type": "code",
   "execution_count": null,
   "id": "fad3ccda",
   "metadata": {},
   "outputs": [],
   "source": []
  }
 ],
 "metadata": {
  "kernelspec": {
   "display_name": "Python 3 (ipykernel)",
   "language": "python",
   "name": "python3"
  },
  "language_info": {
   "codemirror_mode": {
    "name": "ipython",
    "version": 3
   },
   "file_extension": ".py",
   "mimetype": "text/x-python",
   "name": "python",
   "nbconvert_exporter": "python",
   "pygments_lexer": "ipython3",
   "version": "3.9.6"
  }
 },
 "nbformat": 4,
 "nbformat_minor": 5
}
